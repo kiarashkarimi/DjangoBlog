{
 "cells": [
  {
   "cell_type": "code",
   "execution_count": 1,
   "id": "8637d868",
   "metadata": {
    "execution": {
     "iopub.execute_input": "2024-05-09T15:02:20.061810Z",
     "iopub.status.busy": "2024-05-09T15:02:20.061189Z",
     "iopub.status.idle": "2024-05-09T15:02:34.730929Z",
     "shell.execute_reply": "2024-05-09T15:02:34.729897Z"
    },
    "id": "wh08LGj3vRLa",
    "papermill": {
     "duration": 14.679259,
     "end_time": "2024-05-09T15:02:34.733649",
     "exception": false,
     "start_time": "2024-05-09T15:02:20.054390",
     "status": "completed"
    },
    "tags": []
   },
   "outputs": [
    {
     "name": "stderr",
     "output_type": "stream",
     "text": [
      "2024-05-09 15:02:21.989586: E external/local_xla/xla/stream_executor/cuda/cuda_dnn.cc:9261] Unable to register cuDNN factory: Attempting to register factory for plugin cuDNN when one has already been registered\n",
      "2024-05-09 15:02:21.989719: E external/local_xla/xla/stream_executor/cuda/cuda_fft.cc:607] Unable to register cuFFT factory: Attempting to register factory for plugin cuFFT when one has already been registered\n",
      "2024-05-09 15:02:22.141142: E external/local_xla/xla/stream_executor/cuda/cuda_blas.cc:1515] Unable to register cuBLAS factory: Attempting to register factory for plugin cuBLAS when one has already been registered\n"
     ]
    }
   ],
   "source": [
    "import tensorflow as tf\n",
    "from sklearn.model_selection import train_test_split\n",
    "import pandas as pd"
   ]
  },
  {
   "cell_type": "markdown",
   "id": "d38c73dc",
   "metadata": {
    "papermill": {
     "duration": 0.004396,
     "end_time": "2024-05-09T15:02:34.743119",
     "exception": false,
     "start_time": "2024-05-09T15:02:34.738723",
     "status": "completed"
    },
    "tags": []
   },
   "source": [
    "Uploading dataset file ( only for google colab )"
   ]
  },
  {
   "cell_type": "code",
   "execution_count": 2,
   "id": "df82c414",
   "metadata": {
    "execution": {
     "iopub.execute_input": "2024-05-09T15:02:34.754965Z",
     "iopub.status.busy": "2024-05-09T15:02:34.753508Z",
     "iopub.status.idle": "2024-05-09T15:02:34.758787Z",
     "shell.execute_reply": "2024-05-09T15:02:34.757719Z"
    },
    "id": "gyn7Lz39wI7H",
    "outputId": "2c0d4d70-0053-4491-8296-6ece4f93f5a6",
    "papermill": {
     "duration": 0.013469,
     "end_time": "2024-05-09T15:02:34.761248",
     "exception": false,
     "start_time": "2024-05-09T15:02:34.747779",
     "status": "completed"
    },
    "tags": []
   },
   "outputs": [],
   "source": [
    "# from google.colab import files\n",
    "# files.upload()"
   ]
  },
  {
   "cell_type": "markdown",
   "id": "1decd709",
   "metadata": {
    "papermill": {
     "duration": 0.004458,
     "end_time": "2024-05-09T15:02:34.770526",
     "exception": false,
     "start_time": "2024-05-09T15:02:34.766068",
     "status": "completed"
    },
    "tags": []
   },
   "source": [
    "reading the dataset using pandas library"
   ]
  },
  {
   "cell_type": "code",
   "execution_count": 3,
   "id": "dfa8729b",
   "metadata": {
    "execution": {
     "iopub.execute_input": "2024-05-09T15:02:34.782298Z",
     "iopub.status.busy": "2024-05-09T15:02:34.781163Z",
     "iopub.status.idle": "2024-05-09T15:02:34.800176Z",
     "shell.execute_reply": "2024-05-09T15:02:34.799366Z"
    },
    "id": "ENgVYoDKwZr4",
    "papermill": {
     "duration": 0.027385,
     "end_time": "2024-05-09T15:02:34.802716",
     "exception": false,
     "start_time": "2024-05-09T15:02:34.775331",
     "status": "completed"
    },
    "tags": []
   },
   "outputs": [],
   "source": [
    "data = pd.read_csv('/kaggle/input/boston-house-prices/boston.csv')"
   ]
  },
  {
   "cell_type": "markdown",
   "id": "9fe5add7",
   "metadata": {
    "papermill": {
     "duration": 0.004367,
     "end_time": "2024-05-09T15:02:34.811905",
     "exception": false,
     "start_time": "2024-05-09T15:02:34.807538",
     "status": "completed"
    },
    "tags": []
   },
   "source": [
    "setting the 'CRIM' Column as x, and 'MEDV' for y"
   ]
  },
  {
   "cell_type": "code",
   "execution_count": 4,
   "id": "db7ee4bc",
   "metadata": {
    "execution": {
     "iopub.execute_input": "2024-05-09T15:02:34.823641Z",
     "iopub.status.busy": "2024-05-09T15:02:34.822774Z",
     "iopub.status.idle": "2024-05-09T15:02:34.839993Z",
     "shell.execute_reply": "2024-05-09T15:02:34.838916Z"
    },
    "id": "NrZoJjNQv3uo",
    "outputId": "72e79097-a8fa-48e5-b529-2e4601a89e86",
    "papermill": {
     "duration": 0.02585,
     "end_time": "2024-05-09T15:02:34.842558",
     "exception": false,
     "start_time": "2024-05-09T15:02:34.816708",
     "status": "completed"
    },
    "tags": []
   },
   "outputs": [
    {
     "data": {
      "text/plain": [
       "0      0.00632\n",
       "1      0.02731\n",
       "2      0.02729\n",
       "3      0.03237\n",
       "4      0.06905\n",
       "        ...   \n",
       "501    0.06263\n",
       "502    0.04527\n",
       "503    0.06076\n",
       "504    0.10959\n",
       "505    0.04741\n",
       "Name: CRIM, Length: 506, dtype: float64"
      ]
     },
     "execution_count": 4,
     "metadata": {},
     "output_type": "execute_result"
    }
   ],
   "source": [
    "x = data['CRIM']\n",
    "x"
   ]
  },
  {
   "cell_type": "code",
   "execution_count": 5,
   "id": "e65b398f",
   "metadata": {
    "execution": {
     "iopub.execute_input": "2024-05-09T15:02:34.853952Z",
     "iopub.status.busy": "2024-05-09T15:02:34.853565Z",
     "iopub.status.idle": "2024-05-09T15:02:34.862326Z",
     "shell.execute_reply": "2024-05-09T15:02:34.861140Z"
    },
    "id": "OKco3yu3wCMR",
    "outputId": "0d6eb090-9d59-42ac-b611-7936934ba571",
    "papermill": {
     "duration": 0.016737,
     "end_time": "2024-05-09T15:02:34.864326",
     "exception": false,
     "start_time": "2024-05-09T15:02:34.847589",
     "status": "completed"
    },
    "tags": []
   },
   "outputs": [
    {
     "data": {
      "text/plain": [
       "0      24.0\n",
       "1      21.6\n",
       "2      34.7\n",
       "3      33.4\n",
       "4      36.2\n",
       "       ... \n",
       "501    22.4\n",
       "502    20.6\n",
       "503    23.9\n",
       "504    22.0\n",
       "505    11.9\n",
       "Name: MEDV, Length: 506, dtype: float64"
      ]
     },
     "execution_count": 5,
     "metadata": {},
     "output_type": "execute_result"
    }
   ],
   "source": [
    "y = data['MEDV']\n",
    "y"
   ]
  },
  {
   "cell_type": "markdown",
   "id": "5813a23a",
   "metadata": {
    "papermill": {
     "duration": 0.00466,
     "end_time": "2024-05-09T15:02:34.874061",
     "exception": false,
     "start_time": "2024-05-09T15:02:34.869401",
     "status": "completed"
    },
    "tags": []
   },
   "source": [
    "using 70% of our data for training and 0.3 for test"
   ]
  },
  {
   "cell_type": "code",
   "execution_count": 6,
   "id": "b6cdd483",
   "metadata": {
    "execution": {
     "iopub.execute_input": "2024-05-09T15:02:34.886796Z",
     "iopub.status.busy": "2024-05-09T15:02:34.885803Z",
     "iopub.status.idle": "2024-05-09T15:02:34.896752Z",
     "shell.execute_reply": "2024-05-09T15:02:34.895664Z"
    },
    "id": "6VjkOOa7woPv",
    "papermill": {
     "duration": 0.02001,
     "end_time": "2024-05-09T15:02:34.899266",
     "exception": false,
     "start_time": "2024-05-09T15:02:34.879256",
     "status": "completed"
    },
    "tags": []
   },
   "outputs": [],
   "source": [
    "x_train, x_test, y_train, y_test = train_test_split(x, y, test_size=0.3)"
   ]
  },
  {
   "cell_type": "code",
   "execution_count": 7,
   "id": "1c8c3e23",
   "metadata": {
    "execution": {
     "iopub.execute_input": "2024-05-09T15:02:34.912086Z",
     "iopub.status.busy": "2024-05-09T15:02:34.911395Z",
     "iopub.status.idle": "2024-05-09T15:02:34.920620Z",
     "shell.execute_reply": "2024-05-09T15:02:34.919320Z"
    },
    "id": "6HVk3Oukw0OJ",
    "papermill": {
     "duration": 0.018558,
     "end_time": "2024-05-09T15:02:34.923110",
     "exception": false,
     "start_time": "2024-05-09T15:02:34.904552",
     "status": "completed"
    },
    "tags": []
   },
   "outputs": [],
   "source": [
    "from tensorflow.keras.layers import Input, Dense\n",
    "from tensorflow.keras.models import Model"
   ]
  },
  {
   "cell_type": "markdown",
   "id": "4899db86",
   "metadata": {
    "papermill": {
     "duration": 0.004597,
     "end_time": "2024-05-09T15:02:34.932841",
     "exception": false,
     "start_time": "2024-05-09T15:02:34.928244",
     "status": "completed"
    },
    "tags": []
   },
   "source": [
    "building the regression model"
   ]
  },
  {
   "cell_type": "code",
   "execution_count": 8,
   "id": "abcf643e",
   "metadata": {
    "execution": {
     "iopub.execute_input": "2024-05-09T15:02:34.945613Z",
     "iopub.status.busy": "2024-05-09T15:02:34.945211Z",
     "iopub.status.idle": "2024-05-09T15:02:35.013119Z",
     "shell.execute_reply": "2024-05-09T15:02:35.011744Z"
    },
    "id": "IoNQ6BGYxql4",
    "papermill": {
     "duration": 0.076818,
     "end_time": "2024-05-09T15:02:35.015752",
     "exception": false,
     "start_time": "2024-05-09T15:02:34.938934",
     "status": "completed"
    },
    "tags": []
   },
   "outputs": [],
   "source": [
    "i = Input(shape=(1,))\n",
    "x = Dense(1)(i)\n",
    "model = Model(i, x)"
   ]
  },
  {
   "cell_type": "code",
   "execution_count": 9,
   "id": "ad1ace05",
   "metadata": {
    "execution": {
     "iopub.execute_input": "2024-05-09T15:02:35.028310Z",
     "iopub.status.busy": "2024-05-09T15:02:35.027355Z",
     "iopub.status.idle": "2024-05-09T15:02:35.042736Z",
     "shell.execute_reply": "2024-05-09T15:02:35.041758Z"
    },
    "id": "09XKjPWwyXtH",
    "papermill": {
     "duration": 0.023996,
     "end_time": "2024-05-09T15:02:35.045071",
     "exception": false,
     "start_time": "2024-05-09T15:02:35.021075",
     "status": "completed"
    },
    "tags": []
   },
   "outputs": [],
   "source": [
    "model.compile(optimizer=tf.keras.optimizers.SGD(), loss='mse')"
   ]
  },
  {
   "cell_type": "code",
   "execution_count": 10,
   "id": "91f57d15",
   "metadata": {
    "execution": {
     "iopub.execute_input": "2024-05-09T15:02:35.057406Z",
     "iopub.status.busy": "2024-05-09T15:02:35.056777Z",
     "iopub.status.idle": "2024-05-09T15:02:45.632496Z",
     "shell.execute_reply": "2024-05-09T15:02:45.631306Z"
    },
    "id": "mddnNfac0s_J",
    "outputId": "62598c4b-c7ec-4c3b-8951-a4f382078c3e",
    "papermill": {
     "duration": 10.584804,
     "end_time": "2024-05-09T15:02:45.635048",
     "exception": false,
     "start_time": "2024-05-09T15:02:35.050244",
     "status": "completed"
    },
    "tags": []
   },
   "outputs": [
    {
     "name": "stdout",
     "output_type": "stream",
     "text": [
      "Epoch 1/100\n",
      "\u001b[1m12/12\u001b[0m \u001b[32m━━━━━━━━━━━━━━━━━━━━\u001b[0m\u001b[37m\u001b[0m \u001b[1m0s\u001b[0m 15ms/step - loss: 594.9717 - val_loss: 403.0403\n",
      "Epoch 2/100\n",
      "\u001b[1m12/12\u001b[0m \u001b[32m━━━━━━━━━━━━━━━━━━━━\u001b[0m\u001b[37m\u001b[0m \u001b[1m0s\u001b[0m 4ms/step - loss: 490.1930 - val_loss: 305.1392\n",
      "Epoch 3/100\n",
      "\u001b[1m12/12\u001b[0m \u001b[32m━━━━━━━━━━━━━━━━━━━━\u001b[0m\u001b[37m\u001b[0m \u001b[1m0s\u001b[0m 4ms/step - loss: 351.6130 - val_loss: 269.4171\n",
      "Epoch 4/100\n",
      "\u001b[1m12/12\u001b[0m \u001b[32m━━━━━━━━━━━━━━━━━━━━\u001b[0m\u001b[37m\u001b[0m \u001b[1m0s\u001b[0m 4ms/step - loss: 230.6724 - val_loss: 250.7891\n",
      "Epoch 5/100\n",
      "\u001b[1m12/12\u001b[0m \u001b[32m━━━━━━━━━━━━━━━━━━━━\u001b[0m\u001b[37m\u001b[0m \u001b[1m0s\u001b[0m 4ms/step - loss: 158.0147 - val_loss: 138.3774\n",
      "Epoch 6/100\n",
      "\u001b[1m12/12\u001b[0m \u001b[32m━━━━━━━━━━━━━━━━━━━━\u001b[0m\u001b[37m\u001b[0m \u001b[1m0s\u001b[0m 4ms/step - loss: 126.2840 - val_loss: 141.7390\n",
      "Epoch 7/100\n",
      "\u001b[1m12/12\u001b[0m \u001b[32m━━━━━━━━━━━━━━━━━━━━\u001b[0m\u001b[37m\u001b[0m \u001b[1m0s\u001b[0m 4ms/step - loss: 133.8227 - val_loss: 110.4806\n",
      "Epoch 8/100\n",
      "\u001b[1m12/12\u001b[0m \u001b[32m━━━━━━━━━━━━━━━━━━━━\u001b[0m\u001b[37m\u001b[0m \u001b[1m0s\u001b[0m 4ms/step - loss: 105.9376 - val_loss: 111.8386\n",
      "Epoch 9/100\n",
      "\u001b[1m12/12\u001b[0m \u001b[32m━━━━━━━━━━━━━━━━━━━━\u001b[0m\u001b[37m\u001b[0m \u001b[1m0s\u001b[0m 4ms/step - loss: 82.1807 - val_loss: 6211.1133\n",
      "Epoch 10/100\n",
      "\u001b[1m12/12\u001b[0m \u001b[32m━━━━━━━━━━━━━━━━━━━━\u001b[0m\u001b[37m\u001b[0m \u001b[1m0s\u001b[0m 5ms/step - loss: 2385.7200 - val_loss: 102.6678\n",
      "Epoch 11/100\n",
      "\u001b[1m12/12\u001b[0m \u001b[32m━━━━━━━━━━━━━━━━━━━━\u001b[0m\u001b[37m\u001b[0m \u001b[1m0s\u001b[0m 4ms/step - loss: 93.2211 - val_loss: 102.0076\n",
      "Epoch 12/100\n",
      "\u001b[1m12/12\u001b[0m \u001b[32m━━━━━━━━━━━━━━━━━━━━\u001b[0m\u001b[37m\u001b[0m \u001b[1m0s\u001b[0m 4ms/step - loss: 92.4964 - val_loss: 122.9679\n",
      "Epoch 13/100\n",
      "\u001b[1m12/12\u001b[0m \u001b[32m━━━━━━━━━━━━━━━━━━━━\u001b[0m\u001b[37m\u001b[0m \u001b[1m0s\u001b[0m 4ms/step - loss: 91.8275 - val_loss: 136.3633\n",
      "Epoch 14/100\n",
      "\u001b[1m12/12\u001b[0m \u001b[32m━━━━━━━━━━━━━━━━━━━━\u001b[0m\u001b[37m\u001b[0m \u001b[1m0s\u001b[0m 5ms/step - loss: 93.8353 - val_loss: 163684.5156\n",
      "Epoch 15/100\n",
      "\u001b[1m12/12\u001b[0m \u001b[32m━━━━━━━━━━━━━━━━━━━━\u001b[0m\u001b[37m\u001b[0m \u001b[1m0s\u001b[0m 5ms/step - loss: 123674.3984 - val_loss: 491.8440\n",
      "Epoch 16/100\n",
      "\u001b[1m12/12\u001b[0m \u001b[32m━━━━━━━━━━━━━━━━━━━━\u001b[0m\u001b[37m\u001b[0m \u001b[1m0s\u001b[0m 4ms/step - loss: 513.0263 - val_loss: 116.1565\n",
      "Epoch 17/100\n",
      "\u001b[1m12/12\u001b[0m \u001b[32m━━━━━━━━━━━━━━━━━━━━\u001b[0m\u001b[37m\u001b[0m \u001b[1m0s\u001b[0m 4ms/step - loss: 127.8438 - val_loss: 84.2348\n",
      "Epoch 18/100\n",
      "\u001b[1m12/12\u001b[0m \u001b[32m━━━━━━━━━━━━━━━━━━━━\u001b[0m\u001b[37m\u001b[0m \u001b[1m0s\u001b[0m 4ms/step - loss: 91.7036 - val_loss: 2192.5908\n",
      "Epoch 19/100\n",
      "\u001b[1m12/12\u001b[0m \u001b[32m━━━━━━━━━━━━━━━━━━━━\u001b[0m\u001b[37m\u001b[0m \u001b[1m0s\u001b[0m 4ms/step - loss: 6942.6982 - val_loss: 80.2402\n",
      "Epoch 20/100\n",
      "\u001b[1m12/12\u001b[0m \u001b[32m━━━━━━━━━━━━━━━━━━━━\u001b[0m\u001b[37m\u001b[0m \u001b[1m0s\u001b[0m 4ms/step - loss: 124.1071 - val_loss: 281.5403\n",
      "Epoch 21/100\n",
      "\u001b[1m12/12\u001b[0m \u001b[32m━━━━━━━━━━━━━━━━━━━━\u001b[0m\u001b[37m\u001b[0m \u001b[1m0s\u001b[0m 4ms/step - loss: 133.0734 - val_loss: 83.5689\n",
      "Epoch 22/100\n",
      "\u001b[1m12/12\u001b[0m \u001b[32m━━━━━━━━━━━━━━━━━━━━\u001b[0m\u001b[37m\u001b[0m \u001b[1m0s\u001b[0m 4ms/step - loss: 91.2088 - val_loss: 103.9414\n",
      "Epoch 23/100\n",
      "\u001b[1m12/12\u001b[0m \u001b[32m━━━━━━━━━━━━━━━━━━━━\u001b[0m\u001b[37m\u001b[0m \u001b[1m0s\u001b[0m 4ms/step - loss: 92.3578 - val_loss: 1270.0023\n",
      "Epoch 24/100\n",
      "\u001b[1m12/12\u001b[0m \u001b[32m━━━━━━━━━━━━━━━━━━━━\u001b[0m\u001b[37m\u001b[0m \u001b[1m0s\u001b[0m 4ms/step - loss: 1859.5814 - val_loss: 452.0067\n",
      "Epoch 25/100\n",
      "\u001b[1m12/12\u001b[0m \u001b[32m━━━━━━━━━━━━━━━━━━━━\u001b[0m\u001b[37m\u001b[0m \u001b[1m0s\u001b[0m 4ms/step - loss: 243.2687 - val_loss: 3154.3635\n",
      "Epoch 26/100\n",
      "\u001b[1m12/12\u001b[0m \u001b[32m━━━━━━━━━━━━━━━━━━━━\u001b[0m\u001b[37m\u001b[0m \u001b[1m0s\u001b[0m 4ms/step - loss: 536.3464 - val_loss: 97.3181\n",
      "Epoch 27/100\n",
      "\u001b[1m12/12\u001b[0m \u001b[32m━━━━━━━━━━━━━━━━━━━━\u001b[0m\u001b[37m\u001b[0m \u001b[1m0s\u001b[0m 4ms/step - loss: 84.7159 - val_loss: 167.0905\n",
      "Epoch 28/100\n",
      "\u001b[1m12/12\u001b[0m \u001b[32m━━━━━━━━━━━━━━━━━━━━\u001b[0m\u001b[37m\u001b[0m \u001b[1m0s\u001b[0m 4ms/step - loss: 267.9797 - val_loss: 142.0790\n",
      "Epoch 29/100\n",
      "\u001b[1m12/12\u001b[0m \u001b[32m━━━━━━━━━━━━━━━━━━━━\u001b[0m\u001b[37m\u001b[0m \u001b[1m0s\u001b[0m 4ms/step - loss: 392.6575 - val_loss: 237.3649\n",
      "Epoch 30/100\n",
      "\u001b[1m12/12\u001b[0m \u001b[32m━━━━━━━━━━━━━━━━━━━━\u001b[0m\u001b[37m\u001b[0m \u001b[1m0s\u001b[0m 5ms/step - loss: 228.6139 - val_loss: 280.3375\n",
      "Epoch 31/100\n",
      "\u001b[1m12/12\u001b[0m \u001b[32m━━━━━━━━━━━━━━━━━━━━\u001b[0m\u001b[37m\u001b[0m \u001b[1m0s\u001b[0m 4ms/step - loss: 354.8714 - val_loss: 84.7148\n",
      "Epoch 32/100\n",
      "\u001b[1m12/12\u001b[0m \u001b[32m━━━━━━━━━━━━━━━━━━━━\u001b[0m\u001b[37m\u001b[0m \u001b[1m0s\u001b[0m 4ms/step - loss: 192.3101 - val_loss: 106.1158\n",
      "Epoch 33/100\n",
      "\u001b[1m12/12\u001b[0m \u001b[32m━━━━━━━━━━━━━━━━━━━━\u001b[0m\u001b[37m\u001b[0m \u001b[1m0s\u001b[0m 4ms/step - loss: 272.8951 - val_loss: 81.7460\n",
      "Epoch 34/100\n",
      "\u001b[1m12/12\u001b[0m \u001b[32m━━━━━━━━━━━━━━━━━━━━\u001b[0m\u001b[37m\u001b[0m \u001b[1m0s\u001b[0m 4ms/step - loss: 153.5407 - val_loss: 224.5152\n",
      "Epoch 35/100\n",
      "\u001b[1m12/12\u001b[0m \u001b[32m━━━━━━━━━━━━━━━━━━━━\u001b[0m\u001b[37m\u001b[0m \u001b[1m0s\u001b[0m 4ms/step - loss: 106.4118 - val_loss: 1099.0081\n",
      "Epoch 36/100\n",
      "\u001b[1m12/12\u001b[0m \u001b[32m━━━━━━━━━━━━━━━━━━━━\u001b[0m\u001b[37m\u001b[0m \u001b[1m0s\u001b[0m 4ms/step - loss: 14998.3125 - val_loss: 81.0796\n",
      "Epoch 37/100\n",
      "\u001b[1m12/12\u001b[0m \u001b[32m━━━━━━━━━━━━━━━━━━━━\u001b[0m\u001b[37m\u001b[0m \u001b[1m0s\u001b[0m 4ms/step - loss: 103.0227 - val_loss: 81.9556\n",
      "Epoch 38/100\n",
      "\u001b[1m12/12\u001b[0m \u001b[32m━━━━━━━━━━━━━━━━━━━━\u001b[0m\u001b[37m\u001b[0m \u001b[1m0s\u001b[0m 4ms/step - loss: 216.0161 - val_loss: 120.1947\n",
      "Epoch 39/100\n",
      "\u001b[1m12/12\u001b[0m \u001b[32m━━━━━━━━━━━━━━━━━━━━\u001b[0m\u001b[37m\u001b[0m \u001b[1m0s\u001b[0m 5ms/step - loss: 84.8001 - val_loss: 115.0038\n",
      "Epoch 40/100\n",
      "\u001b[1m12/12\u001b[0m \u001b[32m━━━━━━━━━━━━━━━━━━━━\u001b[0m\u001b[37m\u001b[0m \u001b[1m0s\u001b[0m 4ms/step - loss: 273.5323 - val_loss: 107.7217\n",
      "Epoch 41/100\n",
      "\u001b[1m12/12\u001b[0m \u001b[32m━━━━━━━━━━━━━━━━━━━━\u001b[0m\u001b[37m\u001b[0m \u001b[1m0s\u001b[0m 5ms/step - loss: 74.2971 - val_loss: 1931.9429\n",
      "Epoch 42/100\n",
      "\u001b[1m12/12\u001b[0m \u001b[32m━━━━━━━━━━━━━━━━━━━━\u001b[0m\u001b[37m\u001b[0m \u001b[1m0s\u001b[0m 5ms/step - loss: 280.2915 - val_loss: 294.6954\n",
      "Epoch 43/100\n",
      "\u001b[1m12/12\u001b[0m \u001b[32m━━━━━━━━━━━━━━━━━━━━\u001b[0m\u001b[37m\u001b[0m \u001b[1m0s\u001b[0m 4ms/step - loss: 149.8365 - val_loss: 88.1557\n",
      "Epoch 44/100\n",
      "\u001b[1m12/12\u001b[0m \u001b[32m━━━━━━━━━━━━━━━━━━━━\u001b[0m\u001b[37m\u001b[0m \u001b[1m0s\u001b[0m 4ms/step - loss: 80.8992 - val_loss: 178.6508\n",
      "Epoch 45/100\n",
      "\u001b[1m12/12\u001b[0m \u001b[32m━━━━━━━━━━━━━━━━━━━━\u001b[0m\u001b[37m\u001b[0m \u001b[1m0s\u001b[0m 4ms/step - loss: 130.2687 - val_loss: 87.6985\n",
      "Epoch 46/100\n",
      "\u001b[1m12/12\u001b[0m \u001b[32m━━━━━━━━━━━━━━━━━━━━\u001b[0m\u001b[37m\u001b[0m \u001b[1m0s\u001b[0m 3ms/step - loss: 64.8897 - val_loss: 84.9722\n",
      "Epoch 47/100\n",
      "\u001b[1m12/12\u001b[0m \u001b[32m━━━━━━━━━━━━━━━━━━━━\u001b[0m\u001b[37m\u001b[0m \u001b[1m0s\u001b[0m 4ms/step - loss: 147.5815 - val_loss: 192.3036\n",
      "Epoch 48/100\n",
      "\u001b[1m12/12\u001b[0m \u001b[32m━━━━━━━━━━━━━━━━━━━━\u001b[0m\u001b[37m\u001b[0m \u001b[1m0s\u001b[0m 4ms/step - loss: 107.9479 - val_loss: 191.3235\n",
      "Epoch 49/100\n",
      "\u001b[1m12/12\u001b[0m \u001b[32m━━━━━━━━━━━━━━━━━━━━\u001b[0m\u001b[37m\u001b[0m \u001b[1m0s\u001b[0m 4ms/step - loss: 82.6388 - val_loss: 82.5851\n",
      "Epoch 50/100\n",
      "\u001b[1m12/12\u001b[0m \u001b[32m━━━━━━━━━━━━━━━━━━━━\u001b[0m\u001b[37m\u001b[0m \u001b[1m0s\u001b[0m 4ms/step - loss: 88.8313 - val_loss: 83.7875\n",
      "Epoch 51/100\n",
      "\u001b[1m12/12\u001b[0m \u001b[32m━━━━━━━━━━━━━━━━━━━━\u001b[0m\u001b[37m\u001b[0m \u001b[1m0s\u001b[0m 4ms/step - loss: 133.5541 - val_loss: 103.5710\n",
      "Epoch 52/100\n",
      "\u001b[1m12/12\u001b[0m \u001b[32m━━━━━━━━━━━━━━━━━━━━\u001b[0m\u001b[37m\u001b[0m \u001b[1m0s\u001b[0m 4ms/step - loss: 1500.1095 - val_loss: 90.5720\n",
      "Epoch 53/100\n",
      "\u001b[1m12/12\u001b[0m \u001b[32m━━━━━━━━━━━━━━━━━━━━\u001b[0m\u001b[37m\u001b[0m \u001b[1m0s\u001b[0m 4ms/step - loss: 528.2804 - val_loss: 221.1992\n",
      "Epoch 54/100\n",
      "\u001b[1m12/12\u001b[0m \u001b[32m━━━━━━━━━━━━━━━━━━━━\u001b[0m\u001b[37m\u001b[0m \u001b[1m0s\u001b[0m 4ms/step - loss: 309.0938 - val_loss: 93.8459\n",
      "Epoch 55/100\n",
      "\u001b[1m12/12\u001b[0m \u001b[32m━━━━━━━━━━━━━━━━━━━━\u001b[0m\u001b[37m\u001b[0m \u001b[1m0s\u001b[0m 4ms/step - loss: 165.9364 - val_loss: 82.5992\n",
      "Epoch 56/100\n",
      "\u001b[1m12/12\u001b[0m \u001b[32m━━━━━━━━━━━━━━━━━━━━\u001b[0m\u001b[37m\u001b[0m \u001b[1m0s\u001b[0m 5ms/step - loss: 108.9645 - val_loss: 84.2352\n",
      "Epoch 57/100\n",
      "\u001b[1m12/12\u001b[0m \u001b[32m━━━━━━━━━━━━━━━━━━━━\u001b[0m\u001b[37m\u001b[0m \u001b[1m0s\u001b[0m 4ms/step - loss: 70.2555 - val_loss: 80.6146\n",
      "Epoch 58/100\n",
      "\u001b[1m12/12\u001b[0m \u001b[32m━━━━━━━━━━━━━━━━━━━━\u001b[0m\u001b[37m\u001b[0m \u001b[1m0s\u001b[0m 4ms/step - loss: 111.3150 - val_loss: 105.7647\n",
      "Epoch 59/100\n",
      "\u001b[1m12/12\u001b[0m \u001b[32m━━━━━━━━━━━━━━━━━━━━\u001b[0m\u001b[37m\u001b[0m \u001b[1m0s\u001b[0m 4ms/step - loss: 112.0573 - val_loss: 166.8458\n",
      "Epoch 60/100\n",
      "\u001b[1m12/12\u001b[0m \u001b[32m━━━━━━━━━━━━━━━━━━━━\u001b[0m\u001b[37m\u001b[0m \u001b[1m0s\u001b[0m 4ms/step - loss: 95.4229 - val_loss: 142.5645\n",
      "Epoch 61/100\n",
      "\u001b[1m12/12\u001b[0m \u001b[32m━━━━━━━━━━━━━━━━━━━━\u001b[0m\u001b[37m\u001b[0m \u001b[1m0s\u001b[0m 4ms/step - loss: 425.5079 - val_loss: 100.3291\n",
      "Epoch 62/100\n",
      "\u001b[1m12/12\u001b[0m \u001b[32m━━━━━━━━━━━━━━━━━━━━\u001b[0m\u001b[37m\u001b[0m \u001b[1m0s\u001b[0m 4ms/step - loss: 419.2995 - val_loss: 79.9136\n",
      "Epoch 63/100\n",
      "\u001b[1m12/12\u001b[0m \u001b[32m━━━━━━━━━━━━━━━━━━━━\u001b[0m\u001b[37m\u001b[0m \u001b[1m0s\u001b[0m 4ms/step - loss: 97.8987 - val_loss: 338.3935\n",
      "Epoch 64/100\n",
      "\u001b[1m12/12\u001b[0m \u001b[32m━━━━━━━━━━━━━━━━━━━━\u001b[0m\u001b[37m\u001b[0m \u001b[1m0s\u001b[0m 4ms/step - loss: 111.3066 - val_loss: 186.1775\n",
      "Epoch 65/100\n",
      "\u001b[1m12/12\u001b[0m \u001b[32m━━━━━━━━━━━━━━━━━━━━\u001b[0m\u001b[37m\u001b[0m \u001b[1m0s\u001b[0m 4ms/step - loss: 87.2014 - val_loss: 1015.6322\n",
      "Epoch 66/100\n",
      "\u001b[1m12/12\u001b[0m \u001b[32m━━━━━━━━━━━━━━━━━━━━\u001b[0m\u001b[37m\u001b[0m \u001b[1m0s\u001b[0m 5ms/step - loss: 1218.9747 - val_loss: 177.3090\n",
      "Epoch 67/100\n",
      "\u001b[1m12/12\u001b[0m \u001b[32m━━━━━━━━━━━━━━━━━━━━\u001b[0m\u001b[37m\u001b[0m \u001b[1m0s\u001b[0m 5ms/step - loss: 128.5445 - val_loss: 80.8264\n",
      "Epoch 68/100\n",
      "\u001b[1m12/12\u001b[0m \u001b[32m━━━━━━━━━━━━━━━━━━━━\u001b[0m\u001b[37m\u001b[0m \u001b[1m0s\u001b[0m 4ms/step - loss: 336.8917 - val_loss: 81.1654\n",
      "Epoch 69/100\n",
      "\u001b[1m12/12\u001b[0m \u001b[32m━━━━━━━━━━━━━━━━━━━━\u001b[0m\u001b[37m\u001b[0m \u001b[1m0s\u001b[0m 4ms/step - loss: 85.9328 - val_loss: 95.4304\n",
      "Epoch 70/100\n",
      "\u001b[1m12/12\u001b[0m \u001b[32m━━━━━━━━━━━━━━━━━━━━\u001b[0m\u001b[37m\u001b[0m \u001b[1m0s\u001b[0m 4ms/step - loss: 118.5281 - val_loss: 92.4670\n",
      "Epoch 71/100\n",
      "\u001b[1m12/12\u001b[0m \u001b[32m━━━━━━━━━━━━━━━━━━━━\u001b[0m\u001b[37m\u001b[0m \u001b[1m0s\u001b[0m 4ms/step - loss: 75.3236 - val_loss: 96.6622\n",
      "Epoch 72/100\n",
      "\u001b[1m12/12\u001b[0m \u001b[32m━━━━━━━━━━━━━━━━━━━━\u001b[0m\u001b[37m\u001b[0m \u001b[1m0s\u001b[0m 5ms/step - loss: 84.9118 - val_loss: 98.2374\n",
      "Epoch 73/100\n",
      "\u001b[1m12/12\u001b[0m \u001b[32m━━━━━━━━━━━━━━━━━━━━\u001b[0m\u001b[37m\u001b[0m \u001b[1m0s\u001b[0m 4ms/step - loss: 139.6636 - val_loss: 221.7889\n",
      "Epoch 74/100\n",
      "\u001b[1m12/12\u001b[0m \u001b[32m━━━━━━━━━━━━━━━━━━━━\u001b[0m\u001b[37m\u001b[0m \u001b[1m0s\u001b[0m 4ms/step - loss: 130.8798 - val_loss: 257.7014\n",
      "Epoch 75/100\n",
      "\u001b[1m12/12\u001b[0m \u001b[32m━━━━━━━━━━━━━━━━━━━━\u001b[0m\u001b[37m\u001b[0m \u001b[1m0s\u001b[0m 5ms/step - loss: 279.2531 - val_loss: 80.4270\n",
      "Epoch 76/100\n",
      "\u001b[1m12/12\u001b[0m \u001b[32m━━━━━━━━━━━━━━━━━━━━\u001b[0m\u001b[37m\u001b[0m \u001b[1m0s\u001b[0m 5ms/step - loss: 377.3702 - val_loss: 82.3789\n",
      "Epoch 77/100\n",
      "\u001b[1m12/12\u001b[0m \u001b[32m━━━━━━━━━━━━━━━━━━━━\u001b[0m\u001b[37m\u001b[0m \u001b[1m0s\u001b[0m 4ms/step - loss: 93.3923 - val_loss: 115.3316\n",
      "Epoch 78/100\n",
      "\u001b[1m12/12\u001b[0m \u001b[32m━━━━━━━━━━━━━━━━━━━━\u001b[0m\u001b[37m\u001b[0m \u001b[1m0s\u001b[0m 4ms/step - loss: 85.6699 - val_loss: 97.7661\n",
      "Epoch 79/100\n",
      "\u001b[1m12/12\u001b[0m \u001b[32m━━━━━━━━━━━━━━━━━━━━\u001b[0m\u001b[37m\u001b[0m \u001b[1m0s\u001b[0m 4ms/step - loss: 636.8734 - val_loss: 105.1322\n",
      "Epoch 80/100\n",
      "\u001b[1m12/12\u001b[0m \u001b[32m━━━━━━━━━━━━━━━━━━━━\u001b[0m\u001b[37m\u001b[0m \u001b[1m0s\u001b[0m 4ms/step - loss: 84.9911 - val_loss: 208.7418\n",
      "Epoch 81/100\n",
      "\u001b[1m12/12\u001b[0m \u001b[32m━━━━━━━━━━━━━━━━━━━━\u001b[0m\u001b[37m\u001b[0m \u001b[1m0s\u001b[0m 4ms/step - loss: 88.8683 - val_loss: 3873.7554\n",
      "Epoch 82/100\n",
      "\u001b[1m12/12\u001b[0m \u001b[32m━━━━━━━━━━━━━━━━━━━━\u001b[0m\u001b[37m\u001b[0m \u001b[1m0s\u001b[0m 5ms/step - loss: 1299.2664 - val_loss: 1922.0596\n",
      "Epoch 83/100\n",
      "\u001b[1m12/12\u001b[0m \u001b[32m━━━━━━━━━━━━━━━━━━━━\u001b[0m\u001b[37m\u001b[0m \u001b[1m0s\u001b[0m 4ms/step - loss: 3495.6018 - val_loss: 84.4697\n",
      "Epoch 84/100\n",
      "\u001b[1m12/12\u001b[0m \u001b[32m━━━━━━━━━━━━━━━━━━━━\u001b[0m\u001b[37m\u001b[0m \u001b[1m0s\u001b[0m 4ms/step - loss: 292.0071 - val_loss: 96.6924\n",
      "Epoch 85/100\n",
      "\u001b[1m12/12\u001b[0m \u001b[32m━━━━━━━━━━━━━━━━━━━━\u001b[0m\u001b[37m\u001b[0m \u001b[1m0s\u001b[0m 4ms/step - loss: 211.5550 - val_loss: 82.4005\n",
      "Epoch 86/100\n",
      "\u001b[1m12/12\u001b[0m \u001b[32m━━━━━━━━━━━━━━━━━━━━\u001b[0m\u001b[37m\u001b[0m \u001b[1m0s\u001b[0m 4ms/step - loss: 76.1888 - val_loss: 83.0589\n",
      "Epoch 87/100\n",
      "\u001b[1m12/12\u001b[0m \u001b[32m━━━━━━━━━━━━━━━━━━━━\u001b[0m\u001b[37m\u001b[0m \u001b[1m0s\u001b[0m 5ms/step - loss: 109.3820 - val_loss: 832.9048\n",
      "Epoch 88/100\n",
      "\u001b[1m12/12\u001b[0m \u001b[32m━━━━━━━━━━━━━━━━━━━━\u001b[0m\u001b[37m\u001b[0m \u001b[1m0s\u001b[0m 5ms/step - loss: 279.8510 - val_loss: 222.5486\n",
      "Epoch 89/100\n",
      "\u001b[1m12/12\u001b[0m \u001b[32m━━━━━━━━━━━━━━━━━━━━\u001b[0m\u001b[37m\u001b[0m \u001b[1m0s\u001b[0m 4ms/step - loss: 475.1488 - val_loss: 101.6287\n",
      "Epoch 90/100\n",
      "\u001b[1m12/12\u001b[0m \u001b[32m━━━━━━━━━━━━━━━━━━━━\u001b[0m\u001b[37m\u001b[0m \u001b[1m0s\u001b[0m 5ms/step - loss: 173.6932 - val_loss: 88.9310\n",
      "Epoch 91/100\n",
      "\u001b[1m12/12\u001b[0m \u001b[32m━━━━━━━━━━━━━━━━━━━━\u001b[0m\u001b[37m\u001b[0m \u001b[1m0s\u001b[0m 5ms/step - loss: 68.5902 - val_loss: 183.1582\n",
      "Epoch 92/100\n",
      "\u001b[1m12/12\u001b[0m \u001b[32m━━━━━━━━━━━━━━━━━━━━\u001b[0m\u001b[37m\u001b[0m \u001b[1m0s\u001b[0m 4ms/step - loss: 99.5245 - val_loss: 105.9409\n",
      "Epoch 93/100\n",
      "\u001b[1m12/12\u001b[0m \u001b[32m━━━━━━━━━━━━━━━━━━━━\u001b[0m\u001b[37m\u001b[0m \u001b[1m0s\u001b[0m 4ms/step - loss: 108.9909 - val_loss: 82.1947\n",
      "Epoch 94/100\n",
      "\u001b[1m12/12\u001b[0m \u001b[32m━━━━━━━━━━━━━━━━━━━━\u001b[0m\u001b[37m\u001b[0m \u001b[1m0s\u001b[0m 4ms/step - loss: 159.5563 - val_loss: 133.7495\n",
      "Epoch 95/100\n",
      "\u001b[1m12/12\u001b[0m \u001b[32m━━━━━━━━━━━━━━━━━━━━\u001b[0m\u001b[37m\u001b[0m \u001b[1m0s\u001b[0m 4ms/step - loss: 211.7341 - val_loss: 83.8088\n",
      "Epoch 96/100\n",
      "\u001b[1m12/12\u001b[0m \u001b[32m━━━━━━━━━━━━━━━━━━━━\u001b[0m\u001b[37m\u001b[0m \u001b[1m0s\u001b[0m 4ms/step - loss: 81.9135 - val_loss: 372.5164\n",
      "Epoch 97/100\n",
      "\u001b[1m12/12\u001b[0m \u001b[32m━━━━━━━━━━━━━━━━━━━━\u001b[0m\u001b[37m\u001b[0m \u001b[1m0s\u001b[0m 4ms/step - loss: 731.6163 - val_loss: 108.0608\n",
      "Epoch 98/100\n",
      "\u001b[1m12/12\u001b[0m \u001b[32m━━━━━━━━━━━━━━━━━━━━\u001b[0m\u001b[37m\u001b[0m \u001b[1m0s\u001b[0m 4ms/step - loss: 200.5948 - val_loss: 354.8533\n",
      "Epoch 99/100\n",
      "\u001b[1m12/12\u001b[0m \u001b[32m━━━━━━━━━━━━━━━━━━━━\u001b[0m\u001b[37m\u001b[0m \u001b[1m0s\u001b[0m 4ms/step - loss: 552.6452 - val_loss: 90.5424\n",
      "Epoch 100/100\n",
      "\u001b[1m12/12\u001b[0m \u001b[32m━━━━━━━━━━━━━━━━━━━━\u001b[0m\u001b[37m\u001b[0m \u001b[1m0s\u001b[0m 4ms/step - loss: 121.3456 - val_loss: 84.5178\n"
     ]
    }
   ],
   "source": [
    "r = model.fit(x_train, y_train, validation_data=(x_test, y_test), epochs=100)"
   ]
  },
  {
   "cell_type": "markdown",
   "id": "6e1ad6c8",
   "metadata": {
    "papermill": {
     "duration": 0.023533,
     "end_time": "2024-05-09T15:02:45.682698",
     "exception": false,
     "start_time": "2024-05-09T15:02:45.659165",
     "status": "completed"
    },
    "tags": []
   },
   "source": [
    "importing matplotlib for visualization"
   ]
  },
  {
   "cell_type": "code",
   "execution_count": 11,
   "id": "db130346",
   "metadata": {
    "execution": {
     "iopub.execute_input": "2024-05-09T15:02:45.733054Z",
     "iopub.status.busy": "2024-05-09T15:02:45.731880Z",
     "iopub.status.idle": "2024-05-09T15:02:45.736927Z",
     "shell.execute_reply": "2024-05-09T15:02:45.735698Z"
    },
    "id": "ZjBiPhHd09W4",
    "papermill": {
     "duration": 0.032545,
     "end_time": "2024-05-09T15:02:45.739378",
     "exception": false,
     "start_time": "2024-05-09T15:02:45.706833",
     "status": "completed"
    },
    "tags": []
   },
   "outputs": [],
   "source": [
    "import matplotlib.pyplot as plt"
   ]
  },
  {
   "cell_type": "code",
   "execution_count": 12,
   "id": "decc9ab6",
   "metadata": {
    "execution": {
     "iopub.execute_input": "2024-05-09T15:02:45.788823Z",
     "iopub.status.busy": "2024-05-09T15:02:45.788412Z",
     "iopub.status.idle": "2024-05-09T15:02:46.284447Z",
     "shell.execute_reply": "2024-05-09T15:02:46.283317Z"
    },
    "papermill": {
     "duration": 0.523545,
     "end_time": "2024-05-09T15:02:46.287027",
     "exception": false,
     "start_time": "2024-05-09T15:02:45.763482",
     "status": "completed"
    },
    "tags": []
   },
   "outputs": [
    {
     "data": {
      "image/png": "[encoded data removed]",
      "text/plain": [
       "<Figure size 640x480 with 1 Axes>"
      ]
     },
     "metadata": {},
     "output_type": "display_data"
    }
   ],
   "source": [
    "plt.plot(r.history['loss'], label='loss')\n",
    "plt.plot(r.history['val_loss'], label='val_loss')\n",
    "plt.legend()\n",
    "plt.show()"
   ]
  },
  {
   "cell_type": "code",
   "execution_count": null,
   "id": "38c99378",
   "metadata": {
    "papermill": {
     "duration": 0.024172,
     "end_time": "2024-05-09T15:02:46.335763",
     "exception": false,
     "start_time": "2024-05-09T15:02:46.311591",
     "status": "completed"
    },
    "tags": []
   },
   "outputs": [],
   "source": []
  }
 ],
 "metadata": {
  "colab": {
   "provenance": []
  },
  "kaggle": {
   "accelerator": "none",
   "dataSources": [
    {
     "datasetId": 4973894,
     "sourceId": 8367322,
     "sourceType": "datasetVersion"
    }
   ],
   "dockerImageVersionId": 30698,
   "isGpuEnabled": false,
   "isInternetEnabled": true,
   "language": "python",
   "sourceType": "notebook"
  },
  "kernelspec": {
   "display_name": "Python 3",
   "language": "python",
   "name": "python3"
  },
  "language_info": {
   "codemirror_mode": {
    "name": "ipython",
    "version": 3
   },
   "file_extension": ".py",
   "mimetype": "text/x-python",
   "name": "python",
   "nbconvert_exporter": "python",
   "pygments_lexer": "ipython3",
   "version": "3.10.13"
  },
  "papermill": {
   "default_parameters": {},
   "duration": 30.57074,
   "end_time": "2024-05-09T15:02:47.887167",
   "environment_variables": {},
   "exception": null,
   "input_path": "__notebook__.ipynb",
   "output_path": "__notebook__.ipynb",
   "parameters": {},
   "start_time": "2024-05-09T15:02:17.316427",
   "version": "2.5.0"
  }
 },
 "nbformat": 4,
 "nbformat_minor": 5
}
